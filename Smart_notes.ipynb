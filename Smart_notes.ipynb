{
 "cells": [
  {
   "cell_type": "code",
   "execution_count": 2,
   "id": "6ab4130e-1f9c-408e-b0c2-6104907b7cd2",
   "metadata": {},
   "outputs": [
    {
     "name": "stdout",
     "output_type": "stream",
     "text": [
      "Requirement already satisfied: sentence-transformers in c:\\users\\mate\\anaconda3\\lib\\site-packages (3.2.1)\n",
      "Requirement already satisfied: transformers<5.0.0,>=4.41.0 in c:\\users\\mate\\anaconda3\\lib\\site-packages (from sentence-transformers) (4.45.2)\n",
      "Requirement already satisfied: tqdm in c:\\users\\mate\\anaconda3\\lib\\site-packages (from sentence-transformers) (4.66.4)\n",
      "Requirement already satisfied: torch>=1.11.0 in c:\\users\\mate\\anaconda3\\lib\\site-packages (from sentence-transformers) (2.5.0)\n",
      "Requirement already satisfied: scikit-learn in c:\\users\\mate\\anaconda3\\lib\\site-packages (from sentence-transformers) (1.4.2)\n",
      "Requirement already satisfied: scipy in c:\\users\\mate\\anaconda3\\lib\\site-packages (from sentence-transformers) (1.13.1)\n",
      "Requirement already satisfied: huggingface-hub>=0.20.0 in c:\\users\\mate\\anaconda3\\lib\\site-packages (from sentence-transformers) (0.26.1)\n",
      "Requirement already satisfied: Pillow in c:\\users\\mate\\anaconda3\\lib\\site-packages (from sentence-transformers) (10.3.0)\n",
      "Requirement already satisfied: filelock in c:\\users\\mate\\anaconda3\\lib\\site-packages (from huggingface-hub>=0.20.0->sentence-transformers) (3.13.1)\n",
      "Requirement already satisfied: fsspec>=2023.5.0 in c:\\users\\mate\\anaconda3\\lib\\site-packages (from huggingface-hub>=0.20.0->sentence-transformers) (2024.3.1)\n",
      "Requirement already satisfied: packaging>=20.9 in c:\\users\\mate\\anaconda3\\lib\\site-packages (from huggingface-hub>=0.20.0->sentence-transformers) (23.2)\n",
      "Requirement already satisfied: pyyaml>=5.1 in c:\\users\\mate\\anaconda3\\lib\\site-packages (from huggingface-hub>=0.20.0->sentence-transformers) (6.0.1)\n",
      "Requirement already satisfied: requests in c:\\users\\mate\\anaconda3\\lib\\site-packages (from huggingface-hub>=0.20.0->sentence-transformers) (2.32.2)\n",
      "Requirement already satisfied: typing-extensions>=3.7.4.3 in c:\\users\\mate\\anaconda3\\lib\\site-packages (from huggingface-hub>=0.20.0->sentence-transformers) (4.11.0)\n",
      "Requirement already satisfied: networkx in c:\\users\\mate\\anaconda3\\lib\\site-packages (from torch>=1.11.0->sentence-transformers) (3.2.1)\n",
      "Requirement already satisfied: jinja2 in c:\\users\\mate\\anaconda3\\lib\\site-packages (from torch>=1.11.0->sentence-transformers) (3.1.4)\n",
      "Requirement already satisfied: setuptools in c:\\users\\mate\\anaconda3\\lib\\site-packages (from torch>=1.11.0->sentence-transformers) (69.5.1)\n",
      "Requirement already satisfied: sympy==1.13.1 in c:\\users\\mate\\anaconda3\\lib\\site-packages (from torch>=1.11.0->sentence-transformers) (1.13.1)\n",
      "Requirement already satisfied: mpmath<1.4,>=1.1.0 in c:\\users\\mate\\anaconda3\\lib\\site-packages (from sympy==1.13.1->torch>=1.11.0->sentence-transformers) (1.3.0)\n",
      "Requirement already satisfied: colorama in c:\\users\\mate\\anaconda3\\lib\\site-packages (from tqdm->sentence-transformers) (0.4.6)\n",
      "Requirement already satisfied: numpy>=1.17 in c:\\users\\mate\\anaconda3\\lib\\site-packages (from transformers<5.0.0,>=4.41.0->sentence-transformers) (1.26.4)\n",
      "Requirement already satisfied: regex!=2019.12.17 in c:\\users\\mate\\anaconda3\\lib\\site-packages (from transformers<5.0.0,>=4.41.0->sentence-transformers) (2023.10.3)\n",
      "Requirement already satisfied: safetensors>=0.4.1 in c:\\users\\mate\\anaconda3\\lib\\site-packages (from transformers<5.0.0,>=4.41.0->sentence-transformers) (0.4.5)\n",
      "Requirement already satisfied: tokenizers<0.21,>=0.20 in c:\\users\\mate\\anaconda3\\lib\\site-packages (from transformers<5.0.0,>=4.41.0->sentence-transformers) (0.20.1)\n",
      "Requirement already satisfied: joblib>=1.2.0 in c:\\users\\mate\\anaconda3\\lib\\site-packages (from scikit-learn->sentence-transformers) (1.4.2)\n",
      "Requirement already satisfied: threadpoolctl>=2.0.0 in c:\\users\\mate\\anaconda3\\lib\\site-packages (from scikit-learn->sentence-transformers) (2.2.0)\n",
      "Requirement already satisfied: MarkupSafe>=2.0 in c:\\users\\mate\\anaconda3\\lib\\site-packages (from jinja2->torch>=1.11.0->sentence-transformers) (2.1.3)\n",
      "Requirement already satisfied: charset-normalizer<4,>=2 in c:\\users\\mate\\anaconda3\\lib\\site-packages (from requests->huggingface-hub>=0.20.0->sentence-transformers) (2.0.4)\n",
      "Requirement already satisfied: idna<4,>=2.5 in c:\\users\\mate\\anaconda3\\lib\\site-packages (from requests->huggingface-hub>=0.20.0->sentence-transformers) (3.7)\n",
      "Requirement already satisfied: urllib3<3,>=1.21.1 in c:\\users\\mate\\anaconda3\\lib\\site-packages (from requests->huggingface-hub>=0.20.0->sentence-transformers) (2.2.2)\n",
      "Requirement already satisfied: certifi>=2017.4.17 in c:\\users\\mate\\anaconda3\\lib\\site-packages (from requests->huggingface-hub>=0.20.0->sentence-transformers) (2024.7.4)\n"
     ]
    }
   ],
   "source": [
    "!pip install sentence-transformers\n"
   ]
  },
  {
   "cell_type": "code",
   "execution_count": 1,
   "id": "42bcdf74-1742-4c10-b4da-2b96dc5ab245",
   "metadata": {},
   "outputs": [
    {
     "name": "stderr",
     "output_type": "stream",
     "text": [
      "C:\\Users\\Mate\\anaconda3\\Lib\\site-packages\\sentence_transformers\\cross_encoder\\CrossEncoder.py:13: TqdmExperimentalWarning: Using `tqdm.autonotebook.tqdm` in notebook mode. Use `tqdm.tqdm` instead to force console mode (e.g. in jupyter console)\n",
      "  from tqdm.autonotebook import tqdm, trange\n"
     ]
    },
    {
     "name": "stdout",
     "output_type": "stream",
     "text": [
      "✓ Imports successful!\n"
     ]
    }
   ],
   "source": [
    "# Import required libraries\n",
    "from sentence_transformers import SentenceTransformer\n",
    "import numpy as np\n",
    "\n",
    "# Simple test to ensure everything works\n",
    "print(\"✓ Imports successful!\")\n"
   ]
  },
  {
   "cell_type": "code",
   "execution_count": 5,
   "id": "a836b21d-917d-4d4c-b49d-474910e8bd90",
   "metadata": {},
   "outputs": [
    {
     "name": "stdout",
     "output_type": "stream",
     "text": [
      "Created 9 notes\n"
     ]
    }
   ],
   "source": [
    "\n",
    "\n",
    "notes = [\n",
    "    \"Python lists are mutable sequences used to store collections of items. They can contain mixed types and are defined using square brackets.\",\n",
    "    \"Lists in Python can be modified after creation. Common operations include append(), extend(), and insert().\",\n",
    "    \"Data structures are fundamental building blocks in programming. They help organize and store data efficiently.\",\n",
    "    \"Arrays in NumPy provide efficient storage and operations for numerical data. They are widely used in scientific computing.\",\n",
    "    \"Object-oriented programming in Python uses classes and objects. Classes define the structure and behavior of objects.\",\n",
    "    \"The pandas library is built on top of NumPy and provides powerful data manipulation tools through DataFrames.\",\n",
    "    \"Version control with Git helps track changes in code. Common commands include commit, push, and pull.\",\n",
    "    \"Python functions are defined using the def keyword. They can accept parameters and return values.\",\n",
    "    \"Python is a high-level, general-purpose programming language known for its readability and simplicity.\",\n",
    "]\n",
    "\n",
    "# Print the number of notes we have\n",
    "print(f\"Created {len(notes)} notes\")\n"
   ]
  },
  {
   "cell_type": "code",
   "execution_count": 7,
   "id": "6c8bbb88-68f8-4bca-990c-246b7bab7be9",
   "metadata": {},
   "outputs": [
    {
     "name": "stdout",
     "output_type": "stream",
     "text": [
      "\n",
      "Note 1 (Length: 138 characters):\n",
      "===========================================================================\n",
      "Python lists are mutable sequences used to store collections of items. They can contain mixed types and are defined using square brackets.\n",
      "\n",
      "Note 2 (Length: 107 characters):\n",
      "===========================================================================\n",
      "Lists in Python can be modified after creation. Common operations include append(), extend(), and insert().\n",
      "\n",
      "Note 3 (Length: 110 characters):\n",
      "===========================================================================\n",
      "Data structures are fundamental building blocks in programming. They help organize and store data efficiently.\n",
      "\n",
      "Note 4 (Length: 122 characters):\n",
      "===========================================================================\n",
      "Arrays in NumPy provide efficient storage and operations for numerical data. They are widely used in scientific computing.\n",
      "\n",
      "Note 5 (Length: 117 characters):\n",
      "===========================================================================\n",
      "Object-oriented programming in Python uses classes and objects. Classes define the structure and behavior of objects.\n",
      "\n",
      "Note 6 (Length: 109 characters):\n",
      "===========================================================================\n",
      "The pandas library is built on top of NumPy and provides powerful data manipulation tools through DataFrames.\n",
      "\n",
      "Note 7 (Length: 101 characters):\n",
      "===========================================================================\n",
      "Version control with Git helps track changes in code. Common commands include commit, push, and pull.\n",
      "\n",
      "Note 8 (Length: 97 characters):\n",
      "===========================================================================\n",
      "Python functions are defined using the def keyword. They can accept parameters and return values.\n",
      "\n",
      "Note 9 (Length: 102 characters):\n",
      "===========================================================================\n",
      "Python is a high-level, general-purpose programming language known for its readability and simplicity.\n"
     ]
    }
   ],
   "source": [
    "\n",
    "# Print each note with its length\n",
    "for i, note in enumerate(notes):\n",
    "    print(f\"\\nNote {i+1} (Length: {len(note)} characters):\")\n",
    "    print(f\"{'='*75}\")\n",
    "    print(note)\n"
   ]
  },
  {
   "cell_type": "code",
   "execution_count": 9,
   "id": "78bc0d87-8040-4eba-ba0a-3880ffc9234a",
   "metadata": {},
   "outputs": [
    {
     "name": "stdout",
     "output_type": "stream",
     "text": [
      "Average words per note: 16.3\n",
      "Shortest note: 13 words\n",
      "Longest note: 22 words\n"
     ]
    }
   ],
   "source": [
    "# Quick analysis of our notes\n",
    "note_lengths = [len(note.split()) for note in notes]\n",
    "\n",
    "print(f\"Average words per note: {sum(note_lengths)/len(note_lengths):.1f}\")\n",
    "print(f\"Shortest note: {min(note_lengths)} words\")\n",
    "print(f\"Longest note: {max(note_lengths)} words\")\n",
    "\n"
   ]
  },
  {
   "cell_type": "code",
   "execution_count": 11,
   "id": "7ed712ca-3e68-4009-95e3-403486f77811",
   "metadata": {},
   "outputs": [
    {
     "name": "stdout",
     "output_type": "stream",
     "text": [
      "Model loaded successfully!\n"
     ]
    }
   ],
   "source": [
    "from sentence_transformers import SentenceTransformer\n",
    "\n",
    "# Load the model\n",
    "model = SentenceTransformer('all-MiniLM-L6-v2')\n",
    "\n",
    "print(\"Model loaded successfully!\")\n"
   ]
  },
  {
   "cell_type": "code",
   "execution_count": 13,
   "id": "db7a0791-56f9-4ac9-b6ae-f5c18559941f",
   "metadata": {},
   "outputs": [
    {
     "name": "stdout",
     "output_type": "stream",
     "text": [
      "Embedding shape: (384,)\n",
      "First 5 values: [ 0.03313288 -0.0281372   0.10922699  0.02421217  0.04646194]\n"
     ]
    }
   ],
   "source": [
    "# Create an embedding for a simple sentence\n",
    "test_sentence = \"This is a test sentence to understand embeddings.\"\n",
    "embedding = model.encode(test_sentence)\n",
    "\n",
    "# Look at the embedding's properties\n",
    "print(f\"Embedding shape: {embedding.shape}\")\n",
    "print(f\"First 5 values: {embedding[:5]}\")"
   ]
  },
  {
   "cell_type": "code",
   "execution_count": 15,
   "id": "f41b0bae-12c5-4b16-9b5a-e21f23e5de07",
   "metadata": {},
   "outputs": [
    {
     "name": "stdout",
     "output_type": "stream",
     "text": [
      "Number of embeddings: 3\n",
      "Shape of each embedding: (384,)\n"
     ]
    }
   ],
   "source": [
    "# Create embeddings for a few test sentences\n",
    "test_sentences = [\n",
    "    \"Python is a programming language\",\n",
    "    \"Programming languages are used to write software\",\n",
    "    \"Pythons are large snakes\"\n",
    "]\n",
    "\n",
    "# Generate embeddings for all sentences at once\n",
    "embeddings = model.encode(test_sentences)\n",
    "\n",
    "print(f\"Number of embeddings: {len(embeddings)}\")\n",
    "print(f\"Shape of each embedding: {embeddings[0].shape}\")\n"
   ]
  },
  {
   "cell_type": "code",
   "execution_count": 21,
   "id": "f001a3b0-7ff6-45ca-9d3e-575583629c53",
   "metadata": {},
   "outputs": [
    {
     "name": "stdout",
     "output_type": "stream",
     "text": [
      "\n",
      "Similarity between:\n",
      "'Python is a programming language' and\n",
      "'Programming languages are used to write software':\n",
      "0.657\n",
      "\n",
      "Similarity between:\n",
      "'Python is a programming language' and\n",
      "'Pythons are large snakes':\n",
      "0.497\n",
      "\n",
      "Similarity between:\n",
      "'Programming languages are used to write software' and\n",
      "'Pythons are large snakes':\n",
      "0.119\n"
     ]
    }
   ],
   "source": [
    "import numpy as np\n",
    "\n",
    "# Calculate similarities between sentences\n",
    "def calculate_similarity(emb1, emb2):\n",
    "    return np.dot(emb1, emb2) / (np.linalg.norm(emb1) * np.linalg.norm(emb2))\n",
    "\n",
    "# Get similarities between all pairs\n",
    "for i in range(len(test_sentences)):\n",
    "    for j in range(i + 1, len(test_sentences)):\n",
    "        similarity = calculate_similarity(embeddings[i], embeddings[j])\n",
    "        print(f\"\\nSimilarity between:\\n'{test_sentences[i]}' and\\n'{test_sentences[j]}':\\n{similarity:.3f}\")"
   ]
  },
  {
   "cell_type": "code",
   "execution_count": 17,
   "id": "35eb5f07-0607-4eb2-9bc9-7b51f780117b",
   "metadata": {},
   "outputs": [
    {
     "name": "stdout",
     "output_type": "stream",
     "text": [
      "Created embeddings for 9 notes\n",
      "Each embedding has shape: (384,)\n"
     ]
    }
   ],
   "source": [
    "# Convert all notes to embeddings\n",
    "note_embeddings = model.encode(notes)\n",
    "\n",
    "print(f\"Created embeddings for {len(notes)} notes\")\n",
    "print(f\"Each embedding has shape: {note_embeddings[0].shape}\")"
   ]
  },
  {
   "cell_type": "code",
   "execution_count": 23,
   "id": "c2d930d3-95f4-4698-82d1-4edeec482d22",
   "metadata": {},
   "outputs": [],
   "source": [
    "\n",
    "def search_notes(query, top_k = 3):\n",
    "    # Convert search query to embedding\n",
    "    query_embedding = model.encode(query)\n",
    "\n",
    "    # Calculate similarities with all notes\n",
    "    similarities = np.dot( note_embeddings, query_embedding) / ( np.linalg.norm(note_embeddings) * np.linalg.norm(query_embedding))\n",
    "    \n",
    "     # Get top k matches\n",
    "    top_idx = np.argsort(similarities)[::-1][:top_k] \n",
    "\n",
    "    # A list of dictionaries\n",
    "    results = []\n",
    "    for idx in top_idx:\n",
    "        results.append({ 'note': notes[idx], 'similarity': similarities[idx] })\n",
    "        \n",
    "    # Return matching notes with thier similarity scores\n",
    "    return results\n",
    "\n",
    "    "
   ]
  },
  {
   "cell_type": "code",
   "execution_count": 27,
   "id": "35f88633-ff28-48ca-b49d-5ee2e8c64f43",
   "metadata": {},
   "outputs": [
    {
     "name": "stdout",
     "output_type": "stream",
     "text": [
      "\n",
      "Search Query: 'How do Python lists work?'\n",
      "==================================================\n",
      "\n",
      "1. Match (26.36% similar):\n",
      "Python lists are mutable sequences used to store collections of items. They can contain mixed types and are defined using square brackets.\n",
      "\n",
      "2. Match (24.03% similar):\n",
      "Lists in Python can be modified after creation. Common operations include append(), extend(), and insert().\n",
      "\n",
      "3. Match (18.09% similar):\n",
      "Python is a high-level, general-purpose programming language known for its readability and simplicity.\n",
      "\n",
      "Search Query: 'Tell me about data structures'\n",
      "==================================================\n",
      "\n",
      "1. Match (28.32% similar):\n",
      "Data structures are fundamental building blocks in programming. They help organize and store data efficiently.\n",
      "\n",
      "2. Match (12.10% similar):\n",
      "Object-oriented programming in Python uses classes and objects. Classes define the structure and behavior of objects.\n",
      "\n",
      "3. Match (11.34% similar):\n",
      "Arrays in NumPy provide efficient storage and operations for numerical data. They are widely used in scientific computing.\n",
      "\n",
      "Search Query: 'What is object oriented programming?'\n",
      "==================================================\n",
      "\n",
      "1. Match (22.69% similar):\n",
      "Object-oriented programming in Python uses classes and objects. Classes define the structure and behavior of objects.\n",
      "\n",
      "2. Match (14.33% similar):\n",
      "Python is a high-level, general-purpose programming language known for its readability and simplicity.\n",
      "\n",
      "3. Match (14.14% similar):\n",
      "Data structures are fundamental building blocks in programming. They help organize and store data efficiently.\n"
     ]
    }
   ],
   "source": [
    "# Function to display search results nicely\n",
    "def display_results(query, results):\n",
    "    print(f\"\\nSearch Query: '{query}'\")\n",
    "    print(\"=\" * 50)\n",
    "    for i, r in enumerate(results, 1):\n",
    "        print(f\"\\n{i}. Match ({r['similarity']:.2%} similar):\")\n",
    "        print(r['note'])\n",
    "\n",
    "# Try some example searches\n",
    "queries = [\n",
    "    \"How do Python lists work?\",\n",
    "    \"Tell me about data structures\",\n",
    "    \"What is object oriented programming?\"\n",
    "]\n",
    "\n",
    "for query in queries:\n",
    "    results = search_notes(query)\n",
    "    display_results(query, results)"
   ]
  },
  {
   "cell_type": "code",
   "execution_count": 29,
   "id": "336b45a6-3954-4017-9500-3aef12993f98",
   "metadata": {},
   "outputs": [
    {
     "name": "stdout",
     "output_type": "stream",
     "text": [
      "\n",
      "Search Query: 'What does Numpy do in Python ?'\n",
      "==================================================\n",
      "\n",
      "1. Match (23.61% similar):\n",
      "Arrays in NumPy provide efficient storage and operations for numerical data. They are widely used in scientific computing.\n",
      "\n",
      "2. Match (18.43% similar):\n",
      "The pandas library is built on top of NumPy and provides powerful data manipulation tools through DataFrames.\n",
      "\n",
      "3. Match (17.66% similar):\n",
      "Python is a high-level, general-purpose programming language known for its readability and simplicity.\n"
     ]
    }
   ],
   "source": [
    "# Test with your own query\n",
    "my_query = \"What does Numpy do in Python ?\"\n",
    "results = search_notes(my_query)\n",
    "display_results(my_query, results)"
   ]
  },
  {
   "cell_type": "code",
   "execution_count": null,
   "id": "3918c731-1e52-492c-bda5-07b0d9338521",
   "metadata": {},
   "outputs": [],
   "source": []
  }
 ],
 "metadata": {
  "kernelspec": {
   "display_name": "Python 3 (ipykernel)",
   "language": "python",
   "name": "python3"
  },
  "language_info": {
   "codemirror_mode": {
    "name": "ipython",
    "version": 3
   },
   "file_extension": ".py",
   "mimetype": "text/x-python",
   "name": "python",
   "nbconvert_exporter": "python",
   "pygments_lexer": "ipython3",
   "version": "3.12.4"
  }
 },
 "nbformat": 4,
 "nbformat_minor": 5
}
